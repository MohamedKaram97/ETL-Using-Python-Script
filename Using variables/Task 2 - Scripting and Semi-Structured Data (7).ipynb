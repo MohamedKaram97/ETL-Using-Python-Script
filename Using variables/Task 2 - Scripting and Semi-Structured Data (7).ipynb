{
 "cells": [
  {
   "cell_type": "markdown",
   "metadata": {
    "id": "e4sQWDOlSQis"
   },
   "source": [
    "### Problem Descripition \n",
    "\n",
    "In 2012, URL shortening service Bitly partnered with the US government website USA.gov to provide a feed of anonymous data gathered from users who shorten links ending with .gov or .mil.\n",
    "\n",
    "The text file comes in JSON format and here are some keys and their description. They are only the most important ones for this task."
   ]
  },
  {
   "cell_type": "markdown",
   "metadata": {
    "id": "bpMBMUhESQiw"
   },
   "source": [
    "|key| description |\n",
    "|---|-----------|\n",
    "| a|Denotes information about the web browser and operating system|\n",
    "| tz | time zone |\n",
    "| r | URL the user come from |\n",
    "| u | URL where the user headed to |\n",
    "| t | Timestamp when the user start using the website in UNIX format |\n",
    "| hc | Timestamp when user exit the website in UNIX format |\n",
    "| cy | City from which the request intiated |\n",
    "| ll | Longitude and Latitude |"
   ]
  },
  {
   "cell_type": "markdown",
   "metadata": {
    "id": "iGZDKw1XSQix"
   },
   "source": [
    "In the cell, I tried to provide some helper code for better understanding and clearer vision\n",
    "\n",
    "-**HINT**- Those lines of code may be not helping at all with your task."
   ]
  },
  {
   "cell_type": "code",
   "execution_count": 21,
   "metadata": {
    "id": "5MnEG2tKSQix",
    "outputId": "a90ab440-6871-4b3a-b631-c6d585229a29"
   },
   "outputs": [
    {
     "ename": "FileNotFoundError",
     "evalue": "[Errno 2] No such file or directory: 'usa.gov_click_data_1.json'",
     "output_type": "error",
     "traceback": [
      "\u001b[1;31m---------------------------------------------------------------------------\u001b[0m",
      "\u001b[1;31mFileNotFoundError\u001b[0m                         Traceback (most recent call last)",
      "\u001b[1;32m~\\AppData\\Local\\Temp/ipykernel_37676/907294902.py\u001b[0m in \u001b[0;36m<module>\u001b[1;34m\u001b[0m\n\u001b[0;32m      1\u001b[0m \u001b[1;31m# I will try to retrieve one instance of the file in a list of dictionaries\u001b[0m\u001b[1;33m\u001b[0m\u001b[1;33m\u001b[0m\u001b[0m\n\u001b[0;32m      2\u001b[0m \u001b[1;32mimport\u001b[0m \u001b[0mjson\u001b[0m\u001b[1;33m\u001b[0m\u001b[1;33m\u001b[0m\u001b[0m\n\u001b[1;32m----> 3\u001b[1;33m \u001b[0mrecords\u001b[0m \u001b[1;33m=\u001b[0m \u001b[1;33m[\u001b[0m\u001b[0mjson\u001b[0m\u001b[1;33m.\u001b[0m\u001b[0mloads\u001b[0m\u001b[1;33m(\u001b[0m\u001b[0mline\u001b[0m\u001b[1;33m)\u001b[0m \u001b[1;32mfor\u001b[0m \u001b[0mline\u001b[0m \u001b[1;32min\u001b[0m \u001b[0mopen\u001b[0m\u001b[1;33m(\u001b[0m\u001b[1;34m'usa.gov_click_data_1.json'\u001b[0m\u001b[1;33m)\u001b[0m\u001b[1;33m]\u001b[0m\u001b[1;33m\u001b[0m\u001b[1;33m\u001b[0m\u001b[0m\n\u001b[0m\u001b[0;32m      4\u001b[0m \u001b[1;31m# Print the first occurance\u001b[0m\u001b[1;33m\u001b[0m\u001b[1;33m\u001b[0m\u001b[0m\n\u001b[0;32m      5\u001b[0m \u001b[0mrecords\u001b[0m\u001b[1;33m[\u001b[0m\u001b[1;36m0\u001b[0m\u001b[1;33m]\u001b[0m\u001b[1;33m\u001b[0m\u001b[1;33m\u001b[0m\u001b[0m\n",
      "\u001b[1;31mFileNotFoundError\u001b[0m: [Errno 2] No such file or directory: 'usa.gov_click_data_1.json'"
     ]
    }
   ],
   "source": [
    "# I will try to retrieve one instance of the file in a list of dictionaries\n",
    "#import json\n",
    "#records = [json.loads(line) for line in open('usa.gov_click_data_1.json')]\n",
    "# Print the first occurance\n",
    "#records[0]"
   ]
  },
  {
   "cell_type": "markdown",
   "metadata": {
    "id": "q2QF5UDzSQiy"
   },
   "source": [
    "## Required"
   ]
  },
  {
   "cell_type": "markdown",
   "metadata": {
    "id": "Rd8Bcit8SQiz"
   },
   "source": [
    "Write a script can transform the JSON files to a DataFrame and commit each file to a sparete CSV file in the target directory and consider the following:\n",
    "\n",
    "        "
   ]
  },
  {
   "cell_type": "markdown",
   "metadata": {
    "id": "kNLrS5FqSQiz"
   },
   "source": [
    "All CSV files must have the following columns\n",
    "- web_browser\n",
    "        The web browser that has requested the service\n",
    "- operating_sys\n",
    "        operating system that intiated this request\n",
    "- from_url\n",
    "\n",
    "        The main URL the user came from\n",
    "\n",
    "    **note**:\n",
    "\n",
    "    If the retrived URL was in a long format `http://www.facebook.com/l/7AQEFzjSi/1.usa.gov/wfLQtf`\n",
    "\n",
    "     make it appear in the file in a short format like this `www.facebook.com`\n",
    "     \n",
    "    \n",
    "- to_url\n",
    "\n",
    "       The same applied like `to_url`\n",
    "   \n",
    "- city\n",
    "\n",
    "        The city from which the the request was sent\n",
    "    \n",
    "- longitude\n",
    "\n",
    "        The longitude where the request was sent\n",
    "- latitude\n",
    "\n",
    "        The latitude where the request was sent\n",
    "\n",
    "- time_zone\n",
    "        \n",
    "        The time zone that the city follow\n",
    "        \n",
    "- time_in\n",
    "\n",
    "        Time when the request started\n",
    "- time_out\n",
    "        \n",
    "        Time when the request is ended\n",
    "        \n",
    "        \n",
    "**NOTE** :\n",
    "\n",
    "Because that some instances of the file are incomplete, you may encouter some NaN values in your transforamtion. Make sure that the final dataframes have no NaNs at all."
   ]
  },
  {
   "cell_type": "markdown",
   "metadata": {},
   "source": [
    "# Let's Go.."
   ]
  },
  {
   "cell_type": "markdown",
   "metadata": {},
   "source": [
    "### Step 1: Load the Data"
   ]
  },
  {
   "cell_type": "code",
   "execution_count": 22,
   "metadata": {},
   "outputs": [],
   "source": [
    "# Import the required libraries:\n",
    "\n",
    "import pandas as pd\n",
    "import numpy as np\n",
    "import os\n",
    "import re\n",
    "import json\n",
    "import warnings\n",
    "import argparse\n",
    "import time\n",
    "from urllib.parse import urlparse\n",
    "from datetime import datetime as dt"
   ]
  },
  {
   "cell_type": "code",
   "execution_count": 105,
   "metadata": {},
   "outputs": [
    {
     "name": "stdout",
     "output_type": "stream",
     "text": [
      "Enter arguments:\n",
      "-i input file path\n",
      "-o output file path\n"
     ]
    }
   ],
   "source": [
    "print(\"Enter arguments:\"+\"\\n\"+\"-u ifor unix timestamp format\")"
   ]
  },
  {
   "cell_type": "code",
   "execution_count": 23,
   "metadata": {},
   "outputs": [],
   "source": [
    "# Handling the Arguments\n",
    "parser = argparse.ArgumentParser (description=\"Dina Hosny Python\")\n",
    "#parser.add_argument('-i','--inputPath',help=\"The path for the input file\",type=str)\n",
    "#parser.add_argument('-o','--outputPath',help=\"The path for the output file\",type=str)\n",
    "parser.add_argument('-u','--unix',help=\"if passed the time will be kept in UNIX format\", action=\"store_true\")\n",
    "args, unknown = parser.parse_known_args()"
   ]
  },
  {
   "cell_type": "code",
   "execution_count": 24,
   "metadata": {},
   "outputs": [],
   "source": [
    "# Record the Start Time:\n",
    "start = time.time()"
   ]
  },
  {
   "cell_type": "code",
   "execution_count": 25,
   "metadata": {},
   "outputs": [
    {
     "name": "stdout",
     "output_type": "stream",
     "text": [
      "Enter a file path: data/usa.gov_click_data.json\n"
     ]
    }
   ],
   "source": [
    "# Take the JSON file path from the user and save it into variable:\n",
    "file_path = input('Enter a file path: ')\n",
    "#file_path = args.inputPath"
   ]
  },
  {
   "cell_type": "code",
   "execution_count": 29,
   "metadata": {},
   "outputs": [
    {
     "name": "stdout",
     "output_type": "stream",
     "text": [
      "File contains 13 record\n",
      "\n",
      "No Duplicate Values in the file\n"
     ]
    }
   ],
   "source": [
    "# Print number of unique and duplicated records:\n",
    "records = [json.loads(line) for line in open(file_path)]\n",
    "\n",
    "Unique_records =[]\n",
    "records_num = 1\n",
    "\n",
    "for record in records:\n",
    "    records_num +=1\n",
    "    if record not in Unique_records:\n",
    "        Unique_records.append(record)\n",
    "\n",
    "print (\"File contains \"+ str(records_num)+ \" record\"+ \"\\n\")        \n",
    "if len(Unique_records)<len(records):\n",
    "    print(\"There Are: \" + str(len(records)-len(Unique_records)) + \" duplicate values in the file\")\n",
    "else: print (\"No Duplicate Values in the file\")"
   ]
  },
  {
   "cell_type": "code",
   "execution_count": 30,
   "metadata": {},
   "outputs": [],
   "source": [
    "# Load the data into a datafram:\n",
    "# orient records and lines true cause records seperated by '\\n'\n",
    "first_df = pd.read_json(file_path, orient='records', lines=True)"
   ]
  },
  {
   "cell_type": "code",
   "execution_count": 12,
   "metadata": {},
   "outputs": [
    {
     "data": {
      "text/html": [
       "<div>\n",
       "<style scoped>\n",
       "    .dataframe tbody tr th:only-of-type {\n",
       "        vertical-align: middle;\n",
       "    }\n",
       "\n",
       "    .dataframe tbody tr th {\n",
       "        vertical-align: top;\n",
       "    }\n",
       "\n",
       "    .dataframe thead th {\n",
       "        text-align: right;\n",
       "    }\n",
       "</style>\n",
       "<table border=\"1\" class=\"dataframe\">\n",
       "  <thead>\n",
       "    <tr style=\"text-align: right;\">\n",
       "      <th></th>\n",
       "      <th>a</th>\n",
       "      <th>c</th>\n",
       "      <th>nk</th>\n",
       "      <th>tz</th>\n",
       "      <th>gr</th>\n",
       "      <th>g</th>\n",
       "      <th>h</th>\n",
       "      <th>l</th>\n",
       "      <th>al</th>\n",
       "      <th>hh</th>\n",
       "      <th>r</th>\n",
       "      <th>u</th>\n",
       "      <th>t</th>\n",
       "      <th>hc</th>\n",
       "      <th>cy</th>\n",
       "      <th>ll</th>\n",
       "    </tr>\n",
       "  </thead>\n",
       "  <tbody>\n",
       "    <tr>\n",
       "      <th>0</th>\n",
       "      <td>Mozilla/5.0 (Windows NT 6.1; WOW64) AppleWebKi...</td>\n",
       "      <td>US</td>\n",
       "      <td>1</td>\n",
       "      <td>America/New_York</td>\n",
       "      <td>MA</td>\n",
       "      <td>A6qOVH</td>\n",
       "      <td>wfLQtf</td>\n",
       "      <td>orofrog</td>\n",
       "      <td>en-US,en;q=0.8</td>\n",
       "      <td>1.usa.gov</td>\n",
       "      <td>http://www.facebook.com/l/7AQEFzjSi/1.usa.gov/...</td>\n",
       "      <td>http://www.ncbi.nlm.nih.gov/pubmed/22415991</td>\n",
       "      <td>1333307030</td>\n",
       "      <td>1333307037</td>\n",
       "      <td>Danvers</td>\n",
       "      <td>[42.576698, -70.954903]</td>\n",
       "    </tr>\n",
       "    <tr>\n",
       "      <th>1</th>\n",
       "      <td>GoogleMaps/RochesterNY</td>\n",
       "      <td>US</td>\n",
       "      <td>0</td>\n",
       "      <td>America/Denver</td>\n",
       "      <td>UT</td>\n",
       "      <td>mwszkS</td>\n",
       "      <td>mwszkS</td>\n",
       "      <td>bitly</td>\n",
       "      <td>NaN</td>\n",
       "      <td>j.mp</td>\n",
       "      <td>http://www.AwareMap.com/</td>\n",
       "      <td>http://www.monroecounty.gov/etc/911/rss.php</td>\n",
       "      <td>1331923249</td>\n",
       "      <td>1308262393</td>\n",
       "      <td>Provo</td>\n",
       "      <td>[40.218102, -111.613297]</td>\n",
       "    </tr>\n",
       "    <tr>\n",
       "      <th>2</th>\n",
       "      <td>Mozilla/4.0 (Windows NT 6.1; MSIE 8.0; Windows...</td>\n",
       "      <td>US</td>\n",
       "      <td>1</td>\n",
       "      <td>America/New_York</td>\n",
       "      <td>DC</td>\n",
       "      <td>xxr3Qb</td>\n",
       "      <td>xxr3Qb</td>\n",
       "      <td>bitly</td>\n",
       "      <td>en-US</td>\n",
       "      <td>1.usa.gov</td>\n",
       "      <td>http://t.co/03elZC4Q</td>\n",
       "      <td>http://boxer.senate.gov/en/press/releases/0316...</td>\n",
       "      <td>1333407030</td>\n",
       "      <td>1333407035</td>\n",
       "      <td>Washington</td>\n",
       "      <td>[38.9007, -77.043098]</td>\n",
       "    </tr>\n",
       "    <tr>\n",
       "      <th>3</th>\n",
       "      <td>Mozilla/5.0 (Macintosh; Intel Mac OS X 10_6_8)...</td>\n",
       "      <td>BR</td>\n",
       "      <td>0</td>\n",
       "      <td>America/Sao_Paulo</td>\n",
       "      <td>27</td>\n",
       "      <td>zCaLwp</td>\n",
       "      <td>zUtuOu</td>\n",
       "      <td>alelex88</td>\n",
       "      <td>pt-br</td>\n",
       "      <td>1.usa.gov</td>\n",
       "      <td>direct</td>\n",
       "      <td>http://apod.nasa.gov/apod/ap120312.html</td>\n",
       "      <td>1333507030</td>\n",
       "      <td>1333507044</td>\n",
       "      <td>Braz</td>\n",
       "      <td>[-23.549999, -46.616699]</td>\n",
       "    </tr>\n",
       "    <tr>\n",
       "      <th>4</th>\n",
       "      <td>Mozilla/5.0 (Windows NT 6.1; WOW64) AppleWebKi...</td>\n",
       "      <td>US</td>\n",
       "      <td>0</td>\n",
       "      <td>America/New_York</td>\n",
       "      <td>MA</td>\n",
       "      <td>9b6kNl</td>\n",
       "      <td>9b6kNl</td>\n",
       "      <td>bitly</td>\n",
       "      <td>en-US,en;q=0.8</td>\n",
       "      <td>bit.ly</td>\n",
       "      <td>http://www.shrewsbury-ma.gov/selco/</td>\n",
       "      <td>http://www.shrewsbury-ma.gov/egov/gallery/1341...</td>\n",
       "      <td>1333607030</td>\n",
       "      <td>1333607039</td>\n",
       "      <td>Shrewsbury</td>\n",
       "      <td>[42.286499, -71.714699]</td>\n",
       "    </tr>\n",
       "    <tr>\n",
       "      <th>5</th>\n",
       "      <td>Mozilla/5.0 (Windows NT 6.1; WOW64) AppleWebKi...</td>\n",
       "      <td>US</td>\n",
       "      <td>0</td>\n",
       "      <td>America/New_York</td>\n",
       "      <td>MA</td>\n",
       "      <td>axNK8c</td>\n",
       "      <td>axNK8c</td>\n",
       "      <td>bitly</td>\n",
       "      <td>en-US,en;q=0.8</td>\n",
       "      <td>bit.ly</td>\n",
       "      <td>http://www.shrewsbury-ma.gov/selco/</td>\n",
       "      <td>http://www.shrewsbury-ma.gov/egov/gallery/1341...</td>\n",
       "      <td>1333707030</td>\n",
       "      <td>1333707048</td>\n",
       "      <td>Shrewsbury</td>\n",
       "      <td>[42.286499, -71.714699]</td>\n",
       "    </tr>\n",
       "    <tr>\n",
       "      <th>6</th>\n",
       "      <td>Mozilla/5.0 (Windows NT 5.1) AppleWebKit/535.1...</td>\n",
       "      <td>PL</td>\n",
       "      <td>0</td>\n",
       "      <td>Europe/Warsaw</td>\n",
       "      <td>77</td>\n",
       "      <td>wcndER</td>\n",
       "      <td>zkpJBR</td>\n",
       "      <td>bnjacobs</td>\n",
       "      <td>pl-PL,pl;q=0.8,en-US;q=0.6,en;q=0.4</td>\n",
       "      <td>1.usa.gov</td>\n",
       "      <td>http://plus.url.google.com/url?sa=z&amp;n=13319232...</td>\n",
       "      <td>http://www.nasa.gov/mission_pages/nustar/main/...</td>\n",
       "      <td>1333807030</td>\n",
       "      <td>1333807040</td>\n",
       "      <td>Luban</td>\n",
       "      <td>[51.116699, 15.2833]</td>\n",
       "    </tr>\n",
       "    <tr>\n",
       "      <th>7</th>\n",
       "      <td>Mozilla/5.0 (Windows NT 6.1; rv:2.0.1) Gecko/2...</td>\n",
       "      <td>None</td>\n",
       "      <td>0</td>\n",
       "      <td></td>\n",
       "      <td>NaN</td>\n",
       "      <td>wcndER</td>\n",
       "      <td>zkpJBR</td>\n",
       "      <td>bnjacobs</td>\n",
       "      <td>bg,en-us;q=0.7,en;q=0.3</td>\n",
       "      <td>1.usa.gov</td>\n",
       "      <td>http://www.facebook.com/</td>\n",
       "      <td>http://www.nasa.gov/mission_pages/nustar/main/...</td>\n",
       "      <td>1334007036</td>\n",
       "      <td>13340070364</td>\n",
       "      <td>NaN</td>\n",
       "      <td>NaN</td>\n",
       "    </tr>\n",
       "    <tr>\n",
       "      <th>8</th>\n",
       "      <td>Opera/9.80 (Ubuntu 14.04.6; Linux zbov; U; en)...</td>\n",
       "      <td>None</td>\n",
       "      <td>0</td>\n",
       "      <td></td>\n",
       "      <td>NaN</td>\n",
       "      <td>wcndER</td>\n",
       "      <td>zkpJBR</td>\n",
       "      <td>bnjacobs</td>\n",
       "      <td>en-US, en</td>\n",
       "      <td>1.usa.gov</td>\n",
       "      <td>http://www.facebook.com/l.php?u=http%3A%2F%2F1...</td>\n",
       "      <td>http://www.nasa.gov/mission_pages/nustar/main/...</td>\n",
       "      <td>1333907030</td>\n",
       "      <td>1333907042</td>\n",
       "      <td>NaN</td>\n",
       "      <td>NaN</td>\n",
       "    </tr>\n",
       "    <tr>\n",
       "      <th>9</th>\n",
       "      <td>Mozilla/5.0 (Windows NT 6.1; WOW64) AppleWebKi...</td>\n",
       "      <td>None</td>\n",
       "      <td>0</td>\n",
       "      <td></td>\n",
       "      <td>NaN</td>\n",
       "      <td>zCaLwp</td>\n",
       "      <td>zUtuOu</td>\n",
       "      <td>alelex88</td>\n",
       "      <td>pt-BR,pt;q=0.8,en-US;q=0.6,en;q=0.4</td>\n",
       "      <td>1.usa.gov</td>\n",
       "      <td>http://t.co/o1Pd0WeV</td>\n",
       "      <td>http://apod.nasa.gov/apod/ap120312.html</td>\n",
       "      <td>1334007030</td>\n",
       "      <td>1334007040</td>\n",
       "      <td>NaN</td>\n",
       "      <td>NaN</td>\n",
       "    </tr>\n",
       "    <tr>\n",
       "      <th>10</th>\n",
       "      <td>Mozilla/5.0 (Windows NT 6.1; WOW64; rv:10.0.2)...</td>\n",
       "      <td>US</td>\n",
       "      <td>1</td>\n",
       "      <td>America/Los_Angeles</td>\n",
       "      <td>WA</td>\n",
       "      <td>vNJS4H</td>\n",
       "      <td>u0uD9q</td>\n",
       "      <td>o_4us71ccioa</td>\n",
       "      <td>en-us,en;q=0.5</td>\n",
       "      <td>1.usa.gov</td>\n",
       "      <td>direct</td>\n",
       "      <td>https://www.nysdot.gov/rexdesign/design/commun...</td>\n",
       "      <td>1334107030</td>\n",
       "      <td>1334107040</td>\n",
       "      <td>Seattle</td>\n",
       "      <td>[47.5951, -122.332603]</td>\n",
       "    </tr>\n",
       "    <tr>\n",
       "      <th>11</th>\n",
       "      <td>Mozilla/5.0 (Macintosh; U; Intel Mac OS X 10.4...</td>\n",
       "      <td>US</td>\n",
       "      <td>0</td>\n",
       "      <td>America/New_York</td>\n",
       "      <td>DC</td>\n",
       "      <td>wG7OIH</td>\n",
       "      <td>A0nRz4</td>\n",
       "      <td>darrellissa</td>\n",
       "      <td>en-us,en;q=0.5</td>\n",
       "      <td>1.usa.gov</td>\n",
       "      <td>http://t.co/ND7SoPyo</td>\n",
       "      <td>http://oversight.house.gov/wp-content/uploads/...</td>\n",
       "      <td>1334207040</td>\n",
       "      <td>1334207043</td>\n",
       "      <td>Washington</td>\n",
       "      <td>[38.937599, -77.092796]</td>\n",
       "    </tr>\n",
       "  </tbody>\n",
       "</table>\n",
       "</div>"
      ],
      "text/plain": [
       "                                                    a     c  nk  \\\n",
       "0   Mozilla/5.0 (Windows NT 6.1; WOW64) AppleWebKi...    US   1   \n",
       "1                              GoogleMaps/RochesterNY    US   0   \n",
       "2   Mozilla/4.0 (Windows NT 6.1; MSIE 8.0; Windows...    US   1   \n",
       "3   Mozilla/5.0 (Macintosh; Intel Mac OS X 10_6_8)...    BR   0   \n",
       "4   Mozilla/5.0 (Windows NT 6.1; WOW64) AppleWebKi...    US   0   \n",
       "5   Mozilla/5.0 (Windows NT 6.1; WOW64) AppleWebKi...    US   0   \n",
       "6   Mozilla/5.0 (Windows NT 5.1) AppleWebKit/535.1...    PL   0   \n",
       "7   Mozilla/5.0 (Windows NT 6.1; rv:2.0.1) Gecko/2...  None   0   \n",
       "8   Opera/9.80 (Ubuntu 14.04.6; Linux zbov; U; en)...  None   0   \n",
       "9   Mozilla/5.0 (Windows NT 6.1; WOW64) AppleWebKi...  None   0   \n",
       "10  Mozilla/5.0 (Windows NT 6.1; WOW64; rv:10.0.2)...    US   1   \n",
       "11  Mozilla/5.0 (Macintosh; U; Intel Mac OS X 10.4...    US   0   \n",
       "\n",
       "                     tz   gr       g       h             l  \\\n",
       "0      America/New_York   MA  A6qOVH  wfLQtf       orofrog   \n",
       "1        America/Denver   UT  mwszkS  mwszkS         bitly   \n",
       "2      America/New_York   DC  xxr3Qb  xxr3Qb         bitly   \n",
       "3     America/Sao_Paulo   27  zCaLwp  zUtuOu      alelex88   \n",
       "4      America/New_York   MA  9b6kNl  9b6kNl         bitly   \n",
       "5      America/New_York   MA  axNK8c  axNK8c         bitly   \n",
       "6         Europe/Warsaw   77  wcndER  zkpJBR      bnjacobs   \n",
       "7                        NaN  wcndER  zkpJBR      bnjacobs   \n",
       "8                        NaN  wcndER  zkpJBR      bnjacobs   \n",
       "9                        NaN  zCaLwp  zUtuOu      alelex88   \n",
       "10  America/Los_Angeles   WA  vNJS4H  u0uD9q  o_4us71ccioa   \n",
       "11     America/New_York   DC  wG7OIH  A0nRz4   darrellissa   \n",
       "\n",
       "                                     al         hh  \\\n",
       "0                        en-US,en;q=0.8  1.usa.gov   \n",
       "1                                   NaN       j.mp   \n",
       "2                                 en-US  1.usa.gov   \n",
       "3                                 pt-br  1.usa.gov   \n",
       "4                        en-US,en;q=0.8     bit.ly   \n",
       "5                        en-US,en;q=0.8     bit.ly   \n",
       "6   pl-PL,pl;q=0.8,en-US;q=0.6,en;q=0.4  1.usa.gov   \n",
       "7               bg,en-us;q=0.7,en;q=0.3  1.usa.gov   \n",
       "8                             en-US, en  1.usa.gov   \n",
       "9   pt-BR,pt;q=0.8,en-US;q=0.6,en;q=0.4  1.usa.gov   \n",
       "10                       en-us,en;q=0.5  1.usa.gov   \n",
       "11                       en-us,en;q=0.5  1.usa.gov   \n",
       "\n",
       "                                                    r  \\\n",
       "0   http://www.facebook.com/l/7AQEFzjSi/1.usa.gov/...   \n",
       "1                            http://www.AwareMap.com/   \n",
       "2                                http://t.co/03elZC4Q   \n",
       "3                                              direct   \n",
       "4                 http://www.shrewsbury-ma.gov/selco/   \n",
       "5                 http://www.shrewsbury-ma.gov/selco/   \n",
       "6   http://plus.url.google.com/url?sa=z&n=13319232...   \n",
       "7                            http://www.facebook.com/   \n",
       "8   http://www.facebook.com/l.php?u=http%3A%2F%2F1...   \n",
       "9                                http://t.co/o1Pd0WeV   \n",
       "10                                             direct   \n",
       "11                               http://t.co/ND7SoPyo   \n",
       "\n",
       "                                                    u           t  \\\n",
       "0         http://www.ncbi.nlm.nih.gov/pubmed/22415991  1333307030   \n",
       "1         http://www.monroecounty.gov/etc/911/rss.php  1331923249   \n",
       "2   http://boxer.senate.gov/en/press/releases/0316...  1333407030   \n",
       "3             http://apod.nasa.gov/apod/ap120312.html  1333507030   \n",
       "4   http://www.shrewsbury-ma.gov/egov/gallery/1341...  1333607030   \n",
       "5   http://www.shrewsbury-ma.gov/egov/gallery/1341...  1333707030   \n",
       "6   http://www.nasa.gov/mission_pages/nustar/main/...  1333807030   \n",
       "7   http://www.nasa.gov/mission_pages/nustar/main/...  1334007036   \n",
       "8   http://www.nasa.gov/mission_pages/nustar/main/...  1333907030   \n",
       "9             http://apod.nasa.gov/apod/ap120312.html  1334007030   \n",
       "10  https://www.nysdot.gov/rexdesign/design/commun...  1334107030   \n",
       "11  http://oversight.house.gov/wp-content/uploads/...  1334207040   \n",
       "\n",
       "             hc          cy                        ll  \n",
       "0    1333307037     Danvers   [42.576698, -70.954903]  \n",
       "1    1308262393       Provo  [40.218102, -111.613297]  \n",
       "2    1333407035  Washington     [38.9007, -77.043098]  \n",
       "3    1333507044        Braz  [-23.549999, -46.616699]  \n",
       "4    1333607039  Shrewsbury   [42.286499, -71.714699]  \n",
       "5    1333707048  Shrewsbury   [42.286499, -71.714699]  \n",
       "6    1333807040       Luban      [51.116699, 15.2833]  \n",
       "7   13340070364         NaN                       NaN  \n",
       "8    1333907042         NaN                       NaN  \n",
       "9    1334007040         NaN                       NaN  \n",
       "10   1334107040     Seattle    [47.5951, -122.332603]  \n",
       "11   1334207043  Washington   [38.937599, -77.092796]  "
      ]
     },
     "execution_count": 12,
     "metadata": {},
     "output_type": "execute_result"
    }
   ],
   "source": [
    "# Check the dataframe:\n",
    "first_df"
   ]
  },
  {
   "cell_type": "markdown",
   "metadata": {},
   "source": [
    "### Step 2: Exploring Data:"
   ]
  },
  {
   "cell_type": "code",
   "execution_count": 31,
   "metadata": {},
   "outputs": [
    {
     "data": {
      "text/plain": [
       "0     Mozilla/5.0 (Windows NT 6.1; WOW64) AppleWebKi...\n",
       "1                                GoogleMaps/RochesterNY\n",
       "2     Mozilla/4.0 (Windows NT 6.1; MSIE 8.0; Windows...\n",
       "3     Mozilla/5.0 (Macintosh; Intel Mac OS X 10_6_8)...\n",
       "4     Mozilla/5.0 (Windows NT 6.1; WOW64) AppleWebKi...\n",
       "5     Mozilla/5.0 (Windows NT 6.1; WOW64) AppleWebKi...\n",
       "6     Mozilla/5.0 (Windows NT 5.1) AppleWebKit/535.1...\n",
       "7     Mozilla/5.0 (Windows NT 6.1; rv:2.0.1) Gecko/2...\n",
       "8     Opera/9.80 (Ubuntu 14.04.6; Linux zbov; U; en)...\n",
       "9     Mozilla/5.0 (Windows NT 6.1; WOW64) AppleWebKi...\n",
       "10    Mozilla/5.0 (Windows NT 6.1; WOW64; rv:10.0.2)...\n",
       "11    Mozilla/5.0 (Macintosh; U; Intel Mac OS X 10.4...\n",
       "Name: a, dtype: object"
      ]
     },
     "execution_count": 31,
     "metadata": {},
     "output_type": "execute_result"
    }
   ],
   "source": [
    "# Explore 'a' column that contains the browser and operating system type: \n",
    "first_df['a']"
   ]
  },
  {
   "cell_type": "code",
   "execution_count": 32,
   "metadata": {},
   "outputs": [
    {
     "data": {
      "text/plain": [
       "0     http://www.facebook.com/l/7AQEFzjSi/1.usa.gov/...\n",
       "1                              http://www.AwareMap.com/\n",
       "2                                  http://t.co/03elZC4Q\n",
       "3                                                direct\n",
       "4                   http://www.shrewsbury-ma.gov/selco/\n",
       "5                   http://www.shrewsbury-ma.gov/selco/\n",
       "6     http://plus.url.google.com/url?sa=z&n=13319232...\n",
       "7                              http://www.facebook.com/\n",
       "8     http://www.facebook.com/l.php?u=http%3A%2F%2F1...\n",
       "9                                  http://t.co/o1Pd0WeV\n",
       "10                                               direct\n",
       "11                                 http://t.co/ND7SoPyo\n",
       "Name: r, dtype: object"
      ]
     },
     "execution_count": 32,
     "metadata": {},
     "output_type": "execute_result"
    }
   ],
   "source": [
    "# Explore 'r' column that contains the from url:\n",
    "first_df['r']"
   ]
  },
  {
   "cell_type": "code",
   "execution_count": 33,
   "metadata": {},
   "outputs": [
    {
     "data": {
      "text/plain": [
       "0           http://www.ncbi.nlm.nih.gov/pubmed/22415991\n",
       "1           http://www.monroecounty.gov/etc/911/rss.php\n",
       "2     http://boxer.senate.gov/en/press/releases/0316...\n",
       "3               http://apod.nasa.gov/apod/ap120312.html\n",
       "4     http://www.shrewsbury-ma.gov/egov/gallery/1341...\n",
       "5     http://www.shrewsbury-ma.gov/egov/gallery/1341...\n",
       "6     http://www.nasa.gov/mission_pages/nustar/main/...\n",
       "7     http://www.nasa.gov/mission_pages/nustar/main/...\n",
       "8     http://www.nasa.gov/mission_pages/nustar/main/...\n",
       "9               http://apod.nasa.gov/apod/ap120312.html\n",
       "10    https://www.nysdot.gov/rexdesign/design/commun...\n",
       "11    http://oversight.house.gov/wp-content/uploads/...\n",
       "Name: u, dtype: object"
      ]
     },
     "execution_count": 33,
     "metadata": {},
     "output_type": "execute_result"
    }
   ],
   "source": [
    "# Explore 'u' column that contains the to url:\n",
    "first_df['u']"
   ]
  },
  {
   "cell_type": "code",
   "execution_count": 34,
   "metadata": {},
   "outputs": [
    {
     "data": {
      "text/plain": [
       "0        Danvers\n",
       "1          Provo\n",
       "2     Washington\n",
       "3           Braz\n",
       "4     Shrewsbury\n",
       "5     Shrewsbury\n",
       "6          Luban\n",
       "7            NaN\n",
       "8            NaN\n",
       "9            NaN\n",
       "10       Seattle\n",
       "11    Washington\n",
       "Name: cy, dtype: object"
      ]
     },
     "execution_count": 34,
     "metadata": {},
     "output_type": "execute_result"
    }
   ],
   "source": [
    "# Explore 'cy' column that contains the city info:\n",
    "first_df['cy']"
   ]
  },
  {
   "cell_type": "code",
   "execution_count": 35,
   "metadata": {},
   "outputs": [
    {
     "data": {
      "text/plain": [
       "0      [42.576698, -70.954903]\n",
       "1     [40.218102, -111.613297]\n",
       "2        [38.9007, -77.043098]\n",
       "3     [-23.549999, -46.616699]\n",
       "4      [42.286499, -71.714699]\n",
       "5      [42.286499, -71.714699]\n",
       "6         [51.116699, 15.2833]\n",
       "7                          NaN\n",
       "8                          NaN\n",
       "9                          NaN\n",
       "10      [47.5951, -122.332603]\n",
       "11     [38.937599, -77.092796]\n",
       "Name: ll, dtype: object"
      ]
     },
     "execution_count": 35,
     "metadata": {},
     "output_type": "execute_result"
    }
   ],
   "source": [
    "# Explore 'll' column that contains the longitude and latitude info in a list:\n",
    "first_df['ll']"
   ]
  },
  {
   "cell_type": "code",
   "execution_count": 36,
   "metadata": {},
   "outputs": [
    {
     "data": {
      "text/plain": [
       "0        America/New_York\n",
       "1          America/Denver\n",
       "2        America/New_York\n",
       "3       America/Sao_Paulo\n",
       "4        America/New_York\n",
       "5        America/New_York\n",
       "6           Europe/Warsaw\n",
       "7                        \n",
       "8                        \n",
       "9                        \n",
       "10    America/Los_Angeles\n",
       "11       America/New_York\n",
       "Name: tz, dtype: object"
      ]
     },
     "execution_count": 36,
     "metadata": {},
     "output_type": "execute_result"
    }
   ],
   "source": [
    "# Explore 'tz' column that contains the time zone info:\n",
    "first_df['tz']"
   ]
  },
  {
   "cell_type": "code",
   "execution_count": 37,
   "metadata": {},
   "outputs": [
    {
     "data": {
      "text/plain": [
       "0     1333307030\n",
       "1     1331923249\n",
       "2     1333407030\n",
       "3     1333507030\n",
       "4     1333607030\n",
       "5     1333707030\n",
       "6     1333807030\n",
       "7     1334007036\n",
       "8     1333907030\n",
       "9     1334007030\n",
       "10    1334107030\n",
       "11    1334207040\n",
       "Name: t, dtype: int64"
      ]
     },
     "execution_count": 37,
     "metadata": {},
     "output_type": "execute_result"
    }
   ],
   "source": [
    "# Explore 't' column that contains the timestamp in info:\n",
    "first_df['t']"
   ]
  },
  {
   "cell_type": "code",
   "execution_count": 38,
   "metadata": {},
   "outputs": [
    {
     "data": {
      "text/plain": [
       "0      1333307037\n",
       "1      1308262393\n",
       "2      1333407035\n",
       "3      1333507044\n",
       "4      1333607039\n",
       "5      1333707048\n",
       "6      1333807040\n",
       "7     13340070364\n",
       "8      1333907042\n",
       "9      1334007040\n",
       "10     1334107040\n",
       "11     1334207043\n",
       "Name: hc, dtype: int64"
      ]
     },
     "execution_count": 38,
     "metadata": {},
     "output_type": "execute_result"
    }
   ],
   "source": [
    "# Explore 'hc' column that contains the timestamp out info:\n",
    "first_df['hc']"
   ]
  },
  {
   "cell_type": "markdown",
   "metadata": {},
   "source": [
    "### Step 3: Working with data"
   ]
  },
  {
   "cell_type": "code",
   "execution_count": 51,
   "metadata": {},
   "outputs": [],
   "source": [
    "# Create the output dataframe that contains the required data:\n",
    "bitly_data = pd.DataFrame()"
   ]
  },
  {
   "cell_type": "code",
   "execution_count": 52,
   "metadata": {},
   "outputs": [
    {
     "data": {
      "text/html": [
       "<div>\n",
       "<style scoped>\n",
       "    .dataframe tbody tr th:only-of-type {\n",
       "        vertical-align: middle;\n",
       "    }\n",
       "\n",
       "    .dataframe tbody tr th {\n",
       "        vertical-align: top;\n",
       "    }\n",
       "\n",
       "    .dataframe thead th {\n",
       "        text-align: right;\n",
       "    }\n",
       "</style>\n",
       "<table border=\"1\" class=\"dataframe\">\n",
       "  <thead>\n",
       "    <tr style=\"text-align: right;\">\n",
       "      <th></th>\n",
       "    </tr>\n",
       "  </thead>\n",
       "  <tbody>\n",
       "  </tbody>\n",
       "</table>\n",
       "</div>"
      ],
      "text/plain": [
       "Empty DataFrame\n",
       "Columns: []\n",
       "Index: []"
      ]
     },
     "execution_count": 52,
     "metadata": {},
     "output_type": "execute_result"
    }
   ],
   "source": [
    "# Check the creation:\n",
    "bitly_data "
   ]
  },
  {
   "cell_type": "markdown",
   "metadata": {},
   "source": [
    "#### 1- Extract the Web Browser type:"
   ]
  },
  {
   "cell_type": "code",
   "execution_count": 53,
   "metadata": {},
   "outputs": [],
   "source": [
    "# Create web browser column in the output dataframe that contains the web browser type\n",
    "# Extract the web browser type from the column 'a'\n",
    "# Web browser type is the first word in the column and ends in '/' \n",
    "bitly_data['web_browser'] = first_df['a'].str.split('/').str[0]"
   ]
  },
  {
   "cell_type": "code",
   "execution_count": 54,
   "metadata": {},
   "outputs": [
    {
     "data": {
      "text/plain": [
       "0        Mozilla\n",
       "1     GoogleMaps\n",
       "2        Mozilla\n",
       "3        Mozilla\n",
       "4        Mozilla\n",
       "5        Mozilla\n",
       "6        Mozilla\n",
       "7        Mozilla\n",
       "8          Opera\n",
       "9        Mozilla\n",
       "10       Mozilla\n",
       "11       Mozilla\n",
       "Name: web_browser, dtype: object"
      ]
     },
     "execution_count": 54,
     "metadata": {},
     "output_type": "execute_result"
    }
   ],
   "source": [
    "# Check the data:\n",
    "bitly_data['web_browser']"
   ]
  },
  {
   "cell_type": "code",
   "execution_count": 55,
   "metadata": {},
   "outputs": [],
   "source": [
    "# Mozilla and Opera are web browsers while GoogleMaps not! \n",
    "# Handling External programs that are not web browsers\n",
    "bitly_data['web_browser'] = bitly_data['web_browser'].apply(lambda x: x if x in ['Mozilla', 'Opera'] else 'External Program' )"
   ]
  },
  {
   "cell_type": "code",
   "execution_count": 56,
   "metadata": {},
   "outputs": [
    {
     "data": {
      "text/plain": [
       "0              Mozilla\n",
       "1     External Program\n",
       "2              Mozilla\n",
       "3              Mozilla\n",
       "4              Mozilla\n",
       "5              Mozilla\n",
       "6              Mozilla\n",
       "7              Mozilla\n",
       "8                Opera\n",
       "9              Mozilla\n",
       "10             Mozilla\n",
       "11             Mozilla\n",
       "Name: web_browser, dtype: object"
      ]
     },
     "execution_count": 56,
     "metadata": {},
     "output_type": "execute_result"
    }
   ],
   "source": [
    "# Check the data:\n",
    "bitly_data['web_browser']"
   ]
  },
  {
   "cell_type": "markdown",
   "metadata": {},
   "source": [
    "#### 2- Extract the Operating System type:"
   ]
  },
  {
   "cell_type": "code",
   "execution_count": 57,
   "metadata": {},
   "outputs": [],
   "source": [
    "# Create operating_sys column in the output dataframe that contains the operating system type\n",
    "# Extract the operating system type from the column 'a'\n",
    "# Operating system type is founded between '()' \n",
    "bitly_data['operating_sys'] = first_df['a'].str.split('(').str[1].str.split(')').str[0]"
   ]
  },
  {
   "cell_type": "code",
   "execution_count": 58,
   "metadata": {},
   "outputs": [
    {
     "data": {
      "text/plain": [
       "0                                 Windows NT 6.1; WOW64\n",
       "1                                                   NaN\n",
       "2     Windows NT 6.1; MSIE 8.0; Windows NT 6.1; WOW6...\n",
       "3                      Macintosh; Intel Mac OS X 10_6_8\n",
       "4                                 Windows NT 6.1; WOW64\n",
       "5                                 Windows NT 6.1; WOW64\n",
       "6                                        Windows NT 5.1\n",
       "7                              Windows NT 6.1; rv:2.0.1\n",
       "8                     Ubuntu 14.04.6; Linux zbov; U; en\n",
       "9                                 Windows NT 6.1; WOW64\n",
       "10                     Windows NT 6.1; WOW64; rv:10.0.2\n",
       "11    Macintosh; U; Intel Mac OS X 10.4; en-US; rv:1...\n",
       "Name: operating_sys, dtype: object"
      ]
     },
     "execution_count": 58,
     "metadata": {},
     "output_type": "execute_result"
    }
   ],
   "source": [
    "# Check the data:\n",
    "bitly_data['operating_sys']\n",
    "\n",
    "# Extracted operating system type contains unuseful data, so it'll be ommited  "
   ]
  },
  {
   "cell_type": "code",
   "execution_count": 59,
   "metadata": {},
   "outputs": [],
   "source": [
    "# Ommit the unuseful data from the operating system column\n",
    "# The useful data which is the operarting system name and version is the first part and ends with ';'\n",
    "bitly_data['operating_sys'] = bitly_data['operating_sys'].str.split(';').str[0]"
   ]
  },
  {
   "cell_type": "code",
   "execution_count": 60,
   "metadata": {},
   "outputs": [
    {
     "data": {
      "text/plain": [
       "0     Windows NT 6.1\n",
       "1                NaN\n",
       "2     Windows NT 6.1\n",
       "3          Macintosh\n",
       "4     Windows NT 6.1\n",
       "5     Windows NT 6.1\n",
       "6     Windows NT 5.1\n",
       "7     Windows NT 6.1\n",
       "8     Ubuntu 14.04.6\n",
       "9     Windows NT 6.1\n",
       "10    Windows NT 6.1\n",
       "11         Macintosh\n",
       "Name: operating_sys, dtype: object"
      ]
     },
     "execution_count": 60,
     "metadata": {},
     "output_type": "execute_result"
    }
   ],
   "source": [
    "# Check the data:\n",
    "bitly_data['operating_sys']\n",
    "\n",
    "# Looks better :)"
   ]
  },
  {
   "cell_type": "code",
   "execution_count": 61,
   "metadata": {},
   "outputs": [],
   "source": [
    "# Fill the NaN values with 'unknown'\n",
    "bitly_data['operating_sys'] = bitly_data['operating_sys'].fillna('Unknown')"
   ]
  },
  {
   "cell_type": "code",
   "execution_count": 62,
   "metadata": {},
   "outputs": [
    {
     "data": {
      "text/plain": [
       "0     Windows NT 6.1\n",
       "1            Unknown\n",
       "2     Windows NT 6.1\n",
       "3          Macintosh\n",
       "4     Windows NT 6.1\n",
       "5     Windows NT 6.1\n",
       "6     Windows NT 5.1\n",
       "7     Windows NT 6.1\n",
       "8     Ubuntu 14.04.6\n",
       "9     Windows NT 6.1\n",
       "10    Windows NT 6.1\n",
       "11         Macintosh\n",
       "Name: operating_sys, dtype: object"
      ]
     },
     "execution_count": 62,
     "metadata": {},
     "output_type": "execute_result"
    }
   ],
   "source": [
    "# Chwck the final result:\n",
    "bitly_data['operating_sys']"
   ]
  },
  {
   "cell_type": "markdown",
   "metadata": {},
   "source": [
    "#### 3- Extract From URL:"
   ]
  },
  {
   "cell_type": "code",
   "execution_count": 63,
   "metadata": {},
   "outputs": [],
   "source": [
    "# Create from_url column in the output dataframe that contains the URL that user came from\n",
    "# Extract the from URL from the column 'r'\n",
    "# From URL is too long, so it should be in the short format that is before third '/'\n",
    "\n",
    "bitly_data['from_url'] = first_df['r'].str.split('/').str[2]"
   ]
  },
  {
   "cell_type": "code",
   "execution_count": 64,
   "metadata": {},
   "outputs": [
    {
     "data": {
      "text/plain": [
       "0          www.facebook.com\n",
       "1          www.AwareMap.com\n",
       "2                      t.co\n",
       "3                       NaN\n",
       "4     www.shrewsbury-ma.gov\n",
       "5     www.shrewsbury-ma.gov\n",
       "6       plus.url.google.com\n",
       "7          www.facebook.com\n",
       "8          www.facebook.com\n",
       "9                      t.co\n",
       "10                      NaN\n",
       "11                     t.co\n",
       "Name: from_url, dtype: object"
      ]
     },
     "execution_count": 64,
     "metadata": {},
     "output_type": "execute_result"
    }
   ],
   "source": [
    "# Check the data:\n",
    "bitly_data['from_url']"
   ]
  },
  {
   "cell_type": "code",
   "execution_count": 65,
   "metadata": {},
   "outputs": [],
   "source": [
    "# Fill the NaN values with 'Direct'\n",
    "bitly_data['from_url'] = bitly_data['from_url'].fillna('Direct')"
   ]
  },
  {
   "cell_type": "code",
   "execution_count": 66,
   "metadata": {},
   "outputs": [
    {
     "data": {
      "text/plain": [
       "0          www.facebook.com\n",
       "1          www.AwareMap.com\n",
       "2                      t.co\n",
       "3                    Direct\n",
       "4     www.shrewsbury-ma.gov\n",
       "5     www.shrewsbury-ma.gov\n",
       "6       plus.url.google.com\n",
       "7          www.facebook.com\n",
       "8          www.facebook.com\n",
       "9                      t.co\n",
       "10                   Direct\n",
       "11                     t.co\n",
       "Name: from_url, dtype: object"
      ]
     },
     "execution_count": 66,
     "metadata": {},
     "output_type": "execute_result"
    }
   ],
   "source": [
    "# Check the final result:\n",
    "bitly_data['from_url']"
   ]
  },
  {
   "cell_type": "markdown",
   "metadata": {},
   "source": [
    "#### 4- Extract To URL:"
   ]
  },
  {
   "cell_type": "code",
   "execution_count": 67,
   "metadata": {},
   "outputs": [],
   "source": [
    "# Create to_url column in the output dataframe that contains the URL that user went to\n",
    "# Extract the to URL from the column 'u'\n",
    "# From URL is too long, so it should be in the short format that is before third '/'\n",
    "\n",
    "bitly_data['to_url'] = first_df['u'].str.split('/').str[2]"
   ]
  },
  {
   "cell_type": "code",
   "execution_count": 68,
   "metadata": {},
   "outputs": [
    {
     "data": {
      "text/plain": [
       "0      www.ncbi.nlm.nih.gov\n",
       "1      www.monroecounty.gov\n",
       "2          boxer.senate.gov\n",
       "3             apod.nasa.gov\n",
       "4     www.shrewsbury-ma.gov\n",
       "5     www.shrewsbury-ma.gov\n",
       "6              www.nasa.gov\n",
       "7              www.nasa.gov\n",
       "8              www.nasa.gov\n",
       "9             apod.nasa.gov\n",
       "10           www.nysdot.gov\n",
       "11      oversight.house.gov\n",
       "Name: to_url, dtype: object"
      ]
     },
     "execution_count": 68,
     "metadata": {},
     "output_type": "execute_result"
    }
   ],
   "source": [
    "# Check the data:\n",
    "bitly_data['to_url']"
   ]
  },
  {
   "cell_type": "markdown",
   "metadata": {},
   "source": [
    "#### 5- Extract City"
   ]
  },
  {
   "cell_type": "code",
   "execution_count": 69,
   "metadata": {},
   "outputs": [],
   "source": [
    "# Create city column in the output dataframe that contains the city that request was sent from\n",
    "# Extract the city from the column 'cy'\n",
    "\n",
    "bitly_data['city'] = first_df['cy']"
   ]
  },
  {
   "cell_type": "code",
   "execution_count": 70,
   "metadata": {},
   "outputs": [
    {
     "data": {
      "text/plain": [
       "0        Danvers\n",
       "1          Provo\n",
       "2     Washington\n",
       "3           Braz\n",
       "4     Shrewsbury\n",
       "5     Shrewsbury\n",
       "6          Luban\n",
       "7            NaN\n",
       "8            NaN\n",
       "9            NaN\n",
       "10       Seattle\n",
       "11    Washington\n",
       "Name: city, dtype: object"
      ]
     },
     "execution_count": 70,
     "metadata": {},
     "output_type": "execute_result"
    }
   ],
   "source": [
    "# Check the data:\n",
    "bitly_data['city']"
   ]
  },
  {
   "cell_type": "code",
   "execution_count": 71,
   "metadata": {},
   "outputs": [],
   "source": [
    "# Fill the Nan values with 'Unknown':\n",
    "bitly_data['city'] = bitly_data['city'].fillna('Unknown')"
   ]
  },
  {
   "cell_type": "code",
   "execution_count": 72,
   "metadata": {},
   "outputs": [
    {
     "data": {
      "text/plain": [
       "0        Danvers\n",
       "1          Provo\n",
       "2     Washington\n",
       "3           Braz\n",
       "4     Shrewsbury\n",
       "5     Shrewsbury\n",
       "6          Luban\n",
       "7        Unknown\n",
       "8        Unknown\n",
       "9        Unknown\n",
       "10       Seattle\n",
       "11    Washington\n",
       "Name: city, dtype: object"
      ]
     },
     "execution_count": 72,
     "metadata": {},
     "output_type": "execute_result"
    }
   ],
   "source": [
    "# Chwvk the final result:\n",
    "bitly_data['city']"
   ]
  },
  {
   "cell_type": "markdown",
   "metadata": {},
   "source": [
    "#### 6- Extract Longitude:"
   ]
  },
  {
   "cell_type": "code",
   "execution_count": 73,
   "metadata": {},
   "outputs": [],
   "source": [
    "# Create longitude column in the output dataframe that contains longitude info\n",
    "# Extract the longitude from the column 'll'\n",
    "# The column contains list, the first item is the longitude\n",
    "\n",
    "bitly_data['longitude'] = first_df['ll'].str[0]"
   ]
  },
  {
   "cell_type": "code",
   "execution_count": 74,
   "metadata": {},
   "outputs": [
    {
     "data": {
      "text/plain": [
       "0     42.576698\n",
       "1     40.218102\n",
       "2     38.900700\n",
       "3    -23.549999\n",
       "4     42.286499\n",
       "5     42.286499\n",
       "6     51.116699\n",
       "7           NaN\n",
       "8           NaN\n",
       "9           NaN\n",
       "10    47.595100\n",
       "11    38.937599\n",
       "Name: longitude, dtype: float64"
      ]
     },
     "execution_count": 74,
     "metadata": {},
     "output_type": "execute_result"
    }
   ],
   "source": [
    "# Check the data:\n",
    "bitly_data['longitude']"
   ]
  },
  {
   "cell_type": "code",
   "execution_count": 75,
   "metadata": {},
   "outputs": [],
   "source": [
    "# Fill the Null data with 'Not Detected'\n",
    "bitly_data['longitude'] = bitly_data['longitude'].fillna('Not Detected')"
   ]
  },
  {
   "cell_type": "code",
   "execution_count": 76,
   "metadata": {},
   "outputs": [
    {
     "data": {
      "text/plain": [
       "0        42.576698\n",
       "1        40.218102\n",
       "2          38.9007\n",
       "3       -23.549999\n",
       "4        42.286499\n",
       "5        42.286499\n",
       "6        51.116699\n",
       "7     Not Detected\n",
       "8     Not Detected\n",
       "9     Not Detected\n",
       "10         47.5951\n",
       "11       38.937599\n",
       "Name: longitude, dtype: object"
      ]
     },
     "execution_count": 76,
     "metadata": {},
     "output_type": "execute_result"
    }
   ],
   "source": [
    "# Check the result:\n",
    "bitly_data['longitude']"
   ]
  },
  {
   "cell_type": "markdown",
   "metadata": {},
   "source": [
    "#### 7- Extract the latitude:"
   ]
  },
  {
   "cell_type": "code",
   "execution_count": 77,
   "metadata": {},
   "outputs": [],
   "source": [
    "# Create latitude column in the output dataframe that contains latitude info\n",
    "# Extract the latitude from the column 'll'\n",
    "# The column contains list, the second item is the longitude\n",
    "\n",
    "bitly_data['latitude'] = first_df['ll'].str[1]"
   ]
  },
  {
   "cell_type": "code",
   "execution_count": 78,
   "metadata": {},
   "outputs": [
    {
     "data": {
      "text/plain": [
       "0     -70.954903\n",
       "1    -111.613297\n",
       "2     -77.043098\n",
       "3     -46.616699\n",
       "4     -71.714699\n",
       "5     -71.714699\n",
       "6      15.283300\n",
       "7            NaN\n",
       "8            NaN\n",
       "9            NaN\n",
       "10   -122.332603\n",
       "11    -77.092796\n",
       "Name: latitude, dtype: float64"
      ]
     },
     "execution_count": 78,
     "metadata": {},
     "output_type": "execute_result"
    }
   ],
   "source": [
    "# Check the data:\n",
    "bitly_data['latitude']"
   ]
  },
  {
   "cell_type": "code",
   "execution_count": 79,
   "metadata": {},
   "outputs": [],
   "source": [
    "# Fill the Null data with 'Not Detected'\n",
    "bitly_data['latitude'] = bitly_data['latitude'].fillna('Not Detected')"
   ]
  },
  {
   "cell_type": "code",
   "execution_count": 80,
   "metadata": {},
   "outputs": [
    {
     "data": {
      "text/plain": [
       "0       -70.954903\n",
       "1      -111.613297\n",
       "2       -77.043098\n",
       "3       -46.616699\n",
       "4       -71.714699\n",
       "5       -71.714699\n",
       "6          15.2833\n",
       "7     Not Detected\n",
       "8     Not Detected\n",
       "9     Not Detected\n",
       "10     -122.332603\n",
       "11      -77.092796\n",
       "Name: latitude, dtype: object"
      ]
     },
     "execution_count": 80,
     "metadata": {},
     "output_type": "execute_result"
    }
   ],
   "source": [
    "# Check the data:\n",
    "bitly_data['latitude']"
   ]
  },
  {
   "cell_type": "markdown",
   "metadata": {},
   "source": [
    "#### 8- Extract the Time Zone:"
   ]
  },
  {
   "cell_type": "code",
   "execution_count": 81,
   "metadata": {},
   "outputs": [],
   "source": [
    "# Create time_zone column in the output dataframe that contains the time zone that city follows\n",
    "# Extract the the time zone from the column 'tz'\n",
    "\n",
    "bitly_data['time_zone'] = first_df['tz']"
   ]
  },
  {
   "cell_type": "code",
   "execution_count": 82,
   "metadata": {},
   "outputs": [
    {
     "data": {
      "text/plain": [
       "0        America/New_York\n",
       "1          America/Denver\n",
       "2        America/New_York\n",
       "3       America/Sao_Paulo\n",
       "4        America/New_York\n",
       "5        America/New_York\n",
       "6           Europe/Warsaw\n",
       "7                        \n",
       "8                        \n",
       "9                        \n",
       "10    America/Los_Angeles\n",
       "11       America/New_York\n",
       "Name: time_zone, dtype: object"
      ]
     },
     "execution_count": 82,
     "metadata": {},
     "output_type": "execute_result"
    }
   ],
   "source": [
    "# Check the data:\n",
    "bitly_data['time_zone']"
   ]
  },
  {
   "cell_type": "code",
   "execution_count": 106,
   "metadata": {},
   "outputs": [],
   "source": [
    "# There're null values but stored as blank space:\n",
    "# Replace the empty values with 'Unknown'\n",
    "bitly_data['time_zone'] = bitly_data['time_zone'].replace('', 'Unknown')"
   ]
  },
  {
   "cell_type": "markdown",
   "metadata": {},
   "source": [
    "#### 9- Extract Time In:"
   ]
  },
  {
   "cell_type": "code",
   "execution_count": 83,
   "metadata": {},
   "outputs": [],
   "source": [
    "# Create time_in column in the output dataframe that contains when request started\n",
    "# Extract the time in from the column 't'\n",
    "\n",
    "bitly_data['time_in'] = first_df['t']"
   ]
  },
  {
   "cell_type": "code",
   "execution_count": 98,
   "metadata": {},
   "outputs": [
    {
     "data": {
      "text/plain": [
       "0     1333307030\n",
       "1     1331923249\n",
       "2     1333407030\n",
       "3     1333507030\n",
       "4     1333607030\n",
       "5     1333707030\n",
       "6     1333807030\n",
       "7     1334007036\n",
       "8     1333907030\n",
       "9     1334007030\n",
       "10    1334107030\n",
       "11    1334207040\n",
       "Name: time_in, dtype: int64"
      ]
     },
     "execution_count": 98,
     "metadata": {},
     "output_type": "execute_result"
    }
   ],
   "source": [
    "# Check the data:\n",
    "bitly_data['time_in']"
   ]
  },
  {
   "cell_type": "code",
   "execution_count": 84,
   "metadata": {},
   "outputs": [],
   "source": [
    "# Keep unix timestamp if argument -u passed:\n",
    "if args.unix:\n",
    "    bitly_data['time_in'] = first_df['t']\n",
    "\n",
    "# If not passed, Convert the data into timestamp form using fromtimestamp():\n",
    "else:\n",
    "    bitly_data['time_in'] = bitly_data['time_in'].apply(lambda x : dt.fromtimestamp(x))"
   ]
  },
  {
   "cell_type": "code",
   "execution_count": 85,
   "metadata": {},
   "outputs": [
    {
     "data": {
      "text/plain": [
       "0    2012-04-01 21:03:50\n",
       "1    2012-03-16 20:40:49\n",
       "2    2012-04-03 00:50:30\n",
       "3    2012-04-04 04:37:10\n",
       "4    2012-04-05 08:23:50\n",
       "5    2012-04-06 12:10:30\n",
       "6    2012-04-07 15:57:10\n",
       "7    2012-04-09 23:30:36\n",
       "8    2012-04-08 19:43:50\n",
       "9    2012-04-09 23:30:30\n",
       "10   2012-04-11 03:17:10\n",
       "11   2012-04-12 07:04:00\n",
       "Name: time_in, dtype: datetime64[ns]"
      ]
     },
     "execution_count": 85,
     "metadata": {},
     "output_type": "execute_result"
    }
   ],
   "source": [
    "# Check the final result:\n",
    "bitly_data['time_in']"
   ]
  },
  {
   "cell_type": "markdown",
   "metadata": {},
   "source": [
    "#### 10- Extract Time Out"
   ]
  },
  {
   "cell_type": "code",
   "execution_count": 86,
   "metadata": {},
   "outputs": [],
   "source": [
    "# Create time_out column in the output dataframe that contains when request ended\n",
    "# Extract the time in from the column 'hc'\n",
    "\n",
    "bitly_data['time_out'] = first_df['hc']"
   ]
  },
  {
   "cell_type": "code",
   "execution_count": 87,
   "metadata": {},
   "outputs": [
    {
     "data": {
      "text/plain": [
       "0      1333307037\n",
       "1      1308262393\n",
       "2      1333407035\n",
       "3      1333507044\n",
       "4      1333607039\n",
       "5      1333707048\n",
       "6      1333807040\n",
       "7     13340070364\n",
       "8      1333907042\n",
       "9      1334007040\n",
       "10     1334107040\n",
       "11     1334207043\n",
       "Name: time_out, dtype: int64"
      ]
     },
     "execution_count": 87,
     "metadata": {},
     "output_type": "execute_result"
    }
   ],
   "source": [
    "# Check the data:\n",
    "bitly_data['time_out']"
   ]
  },
  {
   "cell_type": "code",
   "execution_count": 88,
   "metadata": {},
   "outputs": [],
   "source": [
    "# Keep unix timestamp if argument -u passed:\n",
    "if args.unix:\n",
    "    bitly_data['time_out'] = first_df['hc']\n",
    "\n",
    "# If not passed, Convert the data into timestamp form using fromtimestamp():\n",
    "else:\n",
    "    bitly_data['time_out'] = bitly_data['time_out'].apply(lambda x : dt.fromtimestamp(x))"
   ]
  },
  {
   "cell_type": "code",
   "execution_count": 89,
   "metadata": {},
   "outputs": [
    {
     "data": {
      "text/plain": [
       "0     2012-04-01 21:03:57\n",
       "1     2011-06-17 00:13:13\n",
       "2     2012-04-03 00:50:35\n",
       "3     2012-04-04 04:37:24\n",
       "4     2012-04-05 08:23:59\n",
       "5     2012-04-06 12:10:48\n",
       "6     2012-04-07 15:57:20\n",
       "7     2392-09-24 01:06:04\n",
       "8     2012-04-08 19:44:02\n",
       "9     2012-04-09 23:30:40\n",
       "10    2012-04-11 03:17:20\n",
       "11    2012-04-12 07:04:03\n",
       "Name: time_out, dtype: object"
      ]
     },
     "execution_count": 89,
     "metadata": {},
     "output_type": "execute_result"
    }
   ],
   "source": [
    "# Check the final result:\n",
    "bitly_data['time_out']"
   ]
  },
  {
   "cell_type": "markdown",
   "metadata": {},
   "source": [
    "### Step 4: Export Final Data to CSV file:"
   ]
  },
  {
   "cell_type": "code",
   "execution_count": 90,
   "metadata": {},
   "outputs": [
    {
     "data": {
      "text/html": [
       "<div>\n",
       "<style scoped>\n",
       "    .dataframe tbody tr th:only-of-type {\n",
       "        vertical-align: middle;\n",
       "    }\n",
       "\n",
       "    .dataframe tbody tr th {\n",
       "        vertical-align: top;\n",
       "    }\n",
       "\n",
       "    .dataframe thead th {\n",
       "        text-align: right;\n",
       "    }\n",
       "</style>\n",
       "<table border=\"1\" class=\"dataframe\">\n",
       "  <thead>\n",
       "    <tr style=\"text-align: right;\">\n",
       "      <th></th>\n",
       "      <th>web_browser</th>\n",
       "      <th>operating_sys</th>\n",
       "      <th>from_url</th>\n",
       "      <th>to_url</th>\n",
       "      <th>city</th>\n",
       "      <th>longitude</th>\n",
       "      <th>latitude</th>\n",
       "      <th>time_zone</th>\n",
       "      <th>time_in</th>\n",
       "      <th>time_out</th>\n",
       "    </tr>\n",
       "  </thead>\n",
       "  <tbody>\n",
       "    <tr>\n",
       "      <th>0</th>\n",
       "      <td>Mozilla</td>\n",
       "      <td>Windows NT 6.1</td>\n",
       "      <td>www.facebook.com</td>\n",
       "      <td>www.ncbi.nlm.nih.gov</td>\n",
       "      <td>Danvers</td>\n",
       "      <td>42.576698</td>\n",
       "      <td>-70.954903</td>\n",
       "      <td>America/New_York</td>\n",
       "      <td>2012-04-01 21:03:50</td>\n",
       "      <td>2012-04-01 21:03:57</td>\n",
       "    </tr>\n",
       "    <tr>\n",
       "      <th>1</th>\n",
       "      <td>External Program</td>\n",
       "      <td>Unknown</td>\n",
       "      <td>www.AwareMap.com</td>\n",
       "      <td>www.monroecounty.gov</td>\n",
       "      <td>Provo</td>\n",
       "      <td>40.218102</td>\n",
       "      <td>-111.613297</td>\n",
       "      <td>America/Denver</td>\n",
       "      <td>2012-03-16 20:40:49</td>\n",
       "      <td>2011-06-17 00:13:13</td>\n",
       "    </tr>\n",
       "    <tr>\n",
       "      <th>2</th>\n",
       "      <td>Mozilla</td>\n",
       "      <td>Windows NT 6.1</td>\n",
       "      <td>t.co</td>\n",
       "      <td>boxer.senate.gov</td>\n",
       "      <td>Washington</td>\n",
       "      <td>38.9007</td>\n",
       "      <td>-77.043098</td>\n",
       "      <td>America/New_York</td>\n",
       "      <td>2012-04-03 00:50:30</td>\n",
       "      <td>2012-04-03 00:50:35</td>\n",
       "    </tr>\n",
       "    <tr>\n",
       "      <th>3</th>\n",
       "      <td>Mozilla</td>\n",
       "      <td>Macintosh</td>\n",
       "      <td>Direct</td>\n",
       "      <td>apod.nasa.gov</td>\n",
       "      <td>Braz</td>\n",
       "      <td>-23.549999</td>\n",
       "      <td>-46.616699</td>\n",
       "      <td>America/Sao_Paulo</td>\n",
       "      <td>2012-04-04 04:37:10</td>\n",
       "      <td>2012-04-04 04:37:24</td>\n",
       "    </tr>\n",
       "    <tr>\n",
       "      <th>4</th>\n",
       "      <td>Mozilla</td>\n",
       "      <td>Windows NT 6.1</td>\n",
       "      <td>www.shrewsbury-ma.gov</td>\n",
       "      <td>www.shrewsbury-ma.gov</td>\n",
       "      <td>Shrewsbury</td>\n",
       "      <td>42.286499</td>\n",
       "      <td>-71.714699</td>\n",
       "      <td>America/New_York</td>\n",
       "      <td>2012-04-05 08:23:50</td>\n",
       "      <td>2012-04-05 08:23:59</td>\n",
       "    </tr>\n",
       "    <tr>\n",
       "      <th>5</th>\n",
       "      <td>Mozilla</td>\n",
       "      <td>Windows NT 6.1</td>\n",
       "      <td>www.shrewsbury-ma.gov</td>\n",
       "      <td>www.shrewsbury-ma.gov</td>\n",
       "      <td>Shrewsbury</td>\n",
       "      <td>42.286499</td>\n",
       "      <td>-71.714699</td>\n",
       "      <td>America/New_York</td>\n",
       "      <td>2012-04-06 12:10:30</td>\n",
       "      <td>2012-04-06 12:10:48</td>\n",
       "    </tr>\n",
       "    <tr>\n",
       "      <th>6</th>\n",
       "      <td>Mozilla</td>\n",
       "      <td>Windows NT 5.1</td>\n",
       "      <td>plus.url.google.com</td>\n",
       "      <td>www.nasa.gov</td>\n",
       "      <td>Luban</td>\n",
       "      <td>51.116699</td>\n",
       "      <td>15.2833</td>\n",
       "      <td>Europe/Warsaw</td>\n",
       "      <td>2012-04-07 15:57:10</td>\n",
       "      <td>2012-04-07 15:57:20</td>\n",
       "    </tr>\n",
       "    <tr>\n",
       "      <th>7</th>\n",
       "      <td>Mozilla</td>\n",
       "      <td>Windows NT 6.1</td>\n",
       "      <td>www.facebook.com</td>\n",
       "      <td>www.nasa.gov</td>\n",
       "      <td>Unknown</td>\n",
       "      <td>Not Detected</td>\n",
       "      <td>Not Detected</td>\n",
       "      <td></td>\n",
       "      <td>2012-04-09 23:30:36</td>\n",
       "      <td>2392-09-24 01:06:04</td>\n",
       "    </tr>\n",
       "    <tr>\n",
       "      <th>8</th>\n",
       "      <td>Opera</td>\n",
       "      <td>Ubuntu 14.04.6</td>\n",
       "      <td>www.facebook.com</td>\n",
       "      <td>www.nasa.gov</td>\n",
       "      <td>Unknown</td>\n",
       "      <td>Not Detected</td>\n",
       "      <td>Not Detected</td>\n",
       "      <td></td>\n",
       "      <td>2012-04-08 19:43:50</td>\n",
       "      <td>2012-04-08 19:44:02</td>\n",
       "    </tr>\n",
       "    <tr>\n",
       "      <th>9</th>\n",
       "      <td>Mozilla</td>\n",
       "      <td>Windows NT 6.1</td>\n",
       "      <td>t.co</td>\n",
       "      <td>apod.nasa.gov</td>\n",
       "      <td>Unknown</td>\n",
       "      <td>Not Detected</td>\n",
       "      <td>Not Detected</td>\n",
       "      <td></td>\n",
       "      <td>2012-04-09 23:30:30</td>\n",
       "      <td>2012-04-09 23:30:40</td>\n",
       "    </tr>\n",
       "    <tr>\n",
       "      <th>10</th>\n",
       "      <td>Mozilla</td>\n",
       "      <td>Windows NT 6.1</td>\n",
       "      <td>Direct</td>\n",
       "      <td>www.nysdot.gov</td>\n",
       "      <td>Seattle</td>\n",
       "      <td>47.5951</td>\n",
       "      <td>-122.332603</td>\n",
       "      <td>America/Los_Angeles</td>\n",
       "      <td>2012-04-11 03:17:10</td>\n",
       "      <td>2012-04-11 03:17:20</td>\n",
       "    </tr>\n",
       "    <tr>\n",
       "      <th>11</th>\n",
       "      <td>Mozilla</td>\n",
       "      <td>Macintosh</td>\n",
       "      <td>t.co</td>\n",
       "      <td>oversight.house.gov</td>\n",
       "      <td>Washington</td>\n",
       "      <td>38.937599</td>\n",
       "      <td>-77.092796</td>\n",
       "      <td>America/New_York</td>\n",
       "      <td>2012-04-12 07:04:00</td>\n",
       "      <td>2012-04-12 07:04:03</td>\n",
       "    </tr>\n",
       "  </tbody>\n",
       "</table>\n",
       "</div>"
      ],
      "text/plain": [
       "         web_browser   operating_sys               from_url  \\\n",
       "0            Mozilla  Windows NT 6.1       www.facebook.com   \n",
       "1   External Program         Unknown       www.AwareMap.com   \n",
       "2            Mozilla  Windows NT 6.1                   t.co   \n",
       "3            Mozilla       Macintosh                 Direct   \n",
       "4            Mozilla  Windows NT 6.1  www.shrewsbury-ma.gov   \n",
       "5            Mozilla  Windows NT 6.1  www.shrewsbury-ma.gov   \n",
       "6            Mozilla  Windows NT 5.1    plus.url.google.com   \n",
       "7            Mozilla  Windows NT 6.1       www.facebook.com   \n",
       "8              Opera  Ubuntu 14.04.6       www.facebook.com   \n",
       "9            Mozilla  Windows NT 6.1                   t.co   \n",
       "10           Mozilla  Windows NT 6.1                 Direct   \n",
       "11           Mozilla       Macintosh                   t.co   \n",
       "\n",
       "                   to_url        city     longitude      latitude  \\\n",
       "0    www.ncbi.nlm.nih.gov     Danvers     42.576698    -70.954903   \n",
       "1    www.monroecounty.gov       Provo     40.218102   -111.613297   \n",
       "2        boxer.senate.gov  Washington       38.9007    -77.043098   \n",
       "3           apod.nasa.gov        Braz    -23.549999    -46.616699   \n",
       "4   www.shrewsbury-ma.gov  Shrewsbury     42.286499    -71.714699   \n",
       "5   www.shrewsbury-ma.gov  Shrewsbury     42.286499    -71.714699   \n",
       "6            www.nasa.gov       Luban     51.116699       15.2833   \n",
       "7            www.nasa.gov     Unknown  Not Detected  Not Detected   \n",
       "8            www.nasa.gov     Unknown  Not Detected  Not Detected   \n",
       "9           apod.nasa.gov     Unknown  Not Detected  Not Detected   \n",
       "10         www.nysdot.gov     Seattle       47.5951   -122.332603   \n",
       "11    oversight.house.gov  Washington     38.937599    -77.092796   \n",
       "\n",
       "              time_zone             time_in             time_out  \n",
       "0      America/New_York 2012-04-01 21:03:50  2012-04-01 21:03:57  \n",
       "1        America/Denver 2012-03-16 20:40:49  2011-06-17 00:13:13  \n",
       "2      America/New_York 2012-04-03 00:50:30  2012-04-03 00:50:35  \n",
       "3     America/Sao_Paulo 2012-04-04 04:37:10  2012-04-04 04:37:24  \n",
       "4      America/New_York 2012-04-05 08:23:50  2012-04-05 08:23:59  \n",
       "5      America/New_York 2012-04-06 12:10:30  2012-04-06 12:10:48  \n",
       "6         Europe/Warsaw 2012-04-07 15:57:10  2012-04-07 15:57:20  \n",
       "7                       2012-04-09 23:30:36  2392-09-24 01:06:04  \n",
       "8                       2012-04-08 19:43:50  2012-04-08 19:44:02  \n",
       "9                       2012-04-09 23:30:30  2012-04-09 23:30:40  \n",
       "10  America/Los_Angeles 2012-04-11 03:17:10  2012-04-11 03:17:20  \n",
       "11     America/New_York 2012-04-12 07:04:00  2012-04-12 07:04:03  "
      ]
     },
     "execution_count": 90,
     "metadata": {},
     "output_type": "execute_result"
    }
   ],
   "source": [
    "# Check the final dataframe:\n",
    "bitly_data"
   ]
  },
  {
   "cell_type": "code",
   "execution_count": 91,
   "metadata": {},
   "outputs": [
    {
     "data": {
      "text/plain": [
       "(12, 10)"
      ]
     },
     "execution_count": 91,
     "metadata": {},
     "output_type": "execute_result"
    }
   ],
   "source": [
    "# Check the final dataframe shape:\n",
    "bitly_data.shape"
   ]
  },
  {
   "cell_type": "code",
   "execution_count": 100,
   "metadata": {},
   "outputs": [
    {
     "name": "stdout",
     "output_type": "stream",
     "text": [
      "Enter the output file name: out\n",
      "Enter the path to save CSV in: data\n"
     ]
    }
   ],
   "source": [
    "# Take the final CSV file path from the user and save it into variable:\n",
    "output_name= input('Enter the output file name: ')\n",
    "output_path = input('Enter the path to save CSV in: ')"
   ]
  },
  {
   "cell_type": "code",
   "execution_count": 101,
   "metadata": {},
   "outputs": [],
   "source": [
    "# Load the data into csv file:\n",
    "bitly_data.to_csv(output_path+\"\\\\\" + output_name+ '.csv')\n",
    "###bitly_data.to_csv(args.outputPath+'\\\\'+ output_name+ '.csv')"
   ]
  },
  {
   "cell_type": "code",
   "execution_count": null,
   "metadata": {},
   "outputs": [],
   "source": [
    "# Print the number of rows transformed:\n",
    "print (\"The File in the path: \" , file_path , \" was succefully transformed\")\n",
    "\n",
    "print (\"There was \" + str(len(bitly_data.index)) + \" rows transformed\" )"
   ]
  },
  {
   "cell_type": "code",
   "execution_count": 102,
   "metadata": {},
   "outputs": [],
   "source": [
    "# Record the end time:\n",
    "end = time.time()"
   ]
  },
  {
   "cell_type": "code",
   "execution_count": 103,
   "metadata": {},
   "outputs": [
    {
     "name": "stdout",
     "output_type": "stream",
     "text": [
      "The time of execution of this script is : 1060882.7199935913 ms\n"
     ]
    }
   ],
   "source": [
    "# Print the execution time:\n",
    "# difference between start and end time in milli. secs\n",
    "print(\"The time of execution of this script is :\",\n",
    "      (end-start) * 10**3, \"ms\")"
   ]
  },
  {
   "cell_type": "code",
   "execution_count": null,
   "metadata": {},
   "outputs": [],
   "source": [
    "# End .. :)"
   ]
  }
 ],
 "metadata": {
  "colab": {
   "provenance": []
  },
  "kernelspec": {
   "display_name": "Python 3 (ipykernel)",
   "language": "python",
   "name": "python3"
  },
  "language_info": {
   "codemirror_mode": {
    "name": "ipython",
    "version": 3
   },
   "file_extension": ".py",
   "mimetype": "text/x-python",
   "name": "python",
   "nbconvert_exporter": "python",
   "pygments_lexer": "ipython3",
   "version": "3.9.7"
  }
 },
 "nbformat": 4,
 "nbformat_minor": 1
}
